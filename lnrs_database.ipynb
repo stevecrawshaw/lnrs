{
 "cells": [
  {
   "cell_type": "code",
   "execution_count": 1,
   "metadata": {},
   "outputs": [],
   "source": [
    "import polars as pl\n",
    "import duckdb\n"
   ]
  },
  {
   "cell_type": "code",
   "execution_count": 40,
   "metadata": {},
   "outputs": [],
   "source": [
    "# use to get a dict of cols and dtypes to define table fields\n",
    "# cols = pl.read_csv('data/portal_upload/species-tbl.csv', separator=';').columns\n",
    "# dtypes = pl.read_csv('data/portal_upload/species-tbl.csv', separator=';').dtypes"
   ]
  },
  {
   "cell_type": "code",
   "execution_count": 41,
   "metadata": {},
   "outputs": [],
   "source": [
    "# dict(zip(cols, dtypes))"
   ]
  },
  {
   "cell_type": "code",
   "execution_count": 5,
   "metadata": {},
   "outputs": [],
   "source": [
    "pl_df = pl.read_csv('data/portal_upload/grants-tbl.csv', separator=\";\")"
   ]
  },
  {
   "cell_type": "code",
   "execution_count": 6,
   "metadata": {},
   "outputs": [
    {
     "name": "stdout",
     "output_type": "stream",
     "text": [
      "Rows: 283\n",
      "Columns: 7\n",
      "$ grant_id       <str> SP10, WD9, WD8, WD7, BE1, BE7, HS1, HS2, HS5, HS6\n",
      "$ id             <i64> 1, 2, 3, 4, 5, 6, 7, 8, 9, 10\n",
      "$ url            <str> https://www.gov.uk/countryside-stewardship-grants/administration-of-group-managed-agreements-supplement-sp10, https://www.gov.uk/countryside-stewardship-grants/livestock-exclusion-supplement-scrub-and-successional-areas-wd9, https://www.gov.uk/countryside-stewardship-grants/creation-of-successional-areas-and-scrub-wd8, https://www.gov.uk/countryside-stewardship-grants/management-of-successional-areas-and-scrub-wd7, https://www.gov.uk/countryside-stewardship-grants/protection-of-in-field-trees-on-arable-land-be1, https://www.gov.uk/countryside-stewardship-grants/supplement-for-restorative-pruning-of-fruit-trees-be7, https://www.gov.uk/countryside-stewardship-grants/maintenance-of-weatherproof-traditional-farm-buildings-hs1, https://www.gov.uk/countryside-stewardship-grants/take-historic-and-archaeological-features-out-of-cultivation-hs2, https://www.gov.uk/countryside-stewardship-grants/management-of-historic-and-archaeological-features-on-grassland-hs5, https://www.gov.uk/countryside-stewardship-grants/maintenance-of-designed-engineered-water-bodies-hs6\n",
      "$ grant_name     <str> SP10: Administration of group managed agreements supplement, WD9: Livestock exclusion supplement - scrub and successional areas, WD8: Creation of successional areas and scrub, WD7: Management of successional areas and scrub, BE1: Protection of in-field trees on arable land, BE7: Supplement for restorative pruning of fruit trees, HS1: Maintenance of weatherproof traditional farm or forestry buildings, HS2: Take historic and archaeological features out of cultivation, HS5: Management of historic and archaeological features on grassland, HS6: Maintenance of designed/engineered water bodies\n",
      "$ grant_focus    <str> Additional supplements, Woodland and scrub, Woodland and scrub, Woodland and scrub, Boundaries, trees and orchards, Boundaries, trees and orchards, Historic environment, Historic environment, Historic environment, Historic environment\n",
      "$ grant_scheme   <str> Countryside Stewardship, Countryside Stewardship, Countryside Stewardship, Countryside Stewardship, Countryside Stewardship, Countryside Stewardship, Countryside Stewardship, Countryside Stewardship, Countryside Stewardship, Countryside Stewardship\n",
      "$ annual_payment <str> None, None, None, None, None, None, None, None, None, None\n",
      "\n"
     ]
    }
   ],
   "source": [
    "pl_df.glimpse()"
   ]
  },
  {
   "cell_type": "code",
   "execution_count": 2,
   "metadata": {},
   "outputs": [],
   "source": [
    "con = duckdb.connect('data/lnrs_db.duckdb')"
   ]
  },
  {
   "cell_type": "code",
   "execution_count": 43,
   "metadata": {},
   "outputs": [],
   "source": [
    "def get_tables_list(con):\n",
    "    tables = con.execute(\"SELECT table_name FROM information_schema.tables WHERE table_schema = 'main'\").fetchall()\n",
    "    # This will print the list of table names\n",
    "    table_list= [table[0] for table in tables]\n",
    "    return table_list\n",
    "\n"
   ]
  },
  {
   "cell_type": "code",
   "execution_count": 62,
   "metadata": {},
   "outputs": [
    {
     "data": {
      "text/plain": [
       "['grants_tbl',\n",
       " 'areas_tbl',\n",
       " 'area_funding_schemes_tbl',\n",
       " 'priority_measures_tbl',\n",
       " 'area_measures_tbl',\n",
       " 'priorities_tbl',\n",
       " 'species_tbl',\n",
       " 'priorities_measures_lookup_tbl',\n",
       " 'priorities_areas_measures_lookup_tbl',\n",
       " 'priorities_areas_lookup_tbl',\n",
       " 'species_priority_lookup_tbl',\n",
       " 'species_area_lookup_tbl',\n",
       " 'priority_measures_grants_lookup_tbl',\n",
       " 'areas_measures_grants_lookup_tbl']"
      ]
     },
     "execution_count": 62,
     "metadata": {},
     "output_type": "execute_result"
    }
   ],
   "source": [
    "table_list = get_tables_list(con)\n",
    "reversed_table_list = table_list[::-1] # needs reversing to delete lookup tables first to avoid constraint error\n",
    "table_list"
   ]
  },
  {
   "cell_type": "code",
   "execution_count": 63,
   "metadata": {},
   "outputs": [],
   "source": [
    "for table in reversed_table_list:\n",
    "    con.execute(f\"DROP TABLE IF EXISTS {table}\")"
   ]
  },
  {
   "cell_type": "markdown",
   "metadata": {},
   "source": [
    "Grants\n"
   ]
  },
  {
   "cell_type": "code",
   "execution_count": 64,
   "metadata": {},
   "outputs": [],
   "source": [
    "con.sql(\n",
    "    \"\"\"\n",
    "CREATE TABLE grants_tbl \n",
    "(\n",
    "grant_id VARCHAR (255) UNIQUE NOT NULL PRIMARY KEY,\n",
    "id INT,\n",
    "url VARCHAR (255),\n",
    "grant_name VARCHAR (255),\n",
    "grant_focus VARCHAR (255),\n",
    "grant_scheme VARCHAR (255),\n",
    "annual_payment VARCHAR (255)\n",
    ");\n",
    "\"\"\"\n",
    ")"
   ]
  },
  {
   "cell_type": "markdown",
   "metadata": {},
   "source": [
    "Areas"
   ]
  },
  {
   "cell_type": "code",
   "execution_count": 65,
   "metadata": {},
   "outputs": [],
   "source": [
    "con.sql(\n",
    "    \"\"\"\n",
    "CREATE TABLE areas_tbl (\n",
    "    area_id INTEGER UNIQUE NOT NULL PRIMARY KEY,\n",
    "    area_name VARCHAR,\n",
    "    area_description VARCHAR,\n",
    "    area_link VARCHAR\n",
    ");\n",
    "    \"\"\"\n",
    ")"
   ]
  },
  {
   "cell_type": "markdown",
   "metadata": {},
   "source": [
    "Funding Schemes"
   ]
  },
  {
   "cell_type": "code",
   "execution_count": 66,
   "metadata": {},
   "outputs": [],
   "source": [
    "con.sql(\n",
    "    \"\"\"\n",
    "CREATE TABLE area_funding_schemes_tbl \n",
    "(id INTEGER UNIQUE NOT NULL PRIMARY KEY,\n",
    "area_id INTEGER,\n",
    "funding_schemes VARCHAR,\n",
    "FOREIGN KEY (area_id) REFERENCES areas_tbl (area_id));\n",
    "    \"\"\"\n",
    ")"
   ]
  },
  {
   "cell_type": "markdown",
   "metadata": {},
   "source": [
    "Priority Measures"
   ]
  },
  {
   "cell_type": "code",
   "execution_count": 67,
   "metadata": {},
   "outputs": [],
   "source": [
    "con.sql(\n",
    "    \"\"\"\n",
    "CREATE TABLE priority_measures_tbl(\n",
    "    priority_measure_id INTEGER UNIQUE NOT NULL PRIMARY KEY,\n",
    "    measure VARCHAR,\n",
    "    level_of_ambition VARCHAR,\n",
    "    land_type VARCHAR,\n",
    "    stakeholder VARCHAR,\n",
    "    link_to_further_guidance VARCHAR\n",
    ");\n",
    "    \"\"\"\n",
    ")"
   ]
  },
  {
   "cell_type": "markdown",
   "metadata": {},
   "source": [
    "Area Measures"
   ]
  },
  {
   "cell_type": "code",
   "execution_count": 68,
   "metadata": {},
   "outputs": [],
   "source": [
    "con.sql(\n",
    "    \"\"\"\n",
    "CREATE TABLE area_measures_tbl(\n",
    "    area_measure_id INTEGER UNIQUE NOT NULL PRIMARY KEY,\n",
    "    measure VARCHAR,\n",
    "    level_of_ambition VARCHAR,\n",
    "    land_type VARCHAR,\n",
    "    stakeholder VARCHAR\n",
    ");\n",
    "    \"\"\"\n",
    ")"
   ]
  },
  {
   "cell_type": "markdown",
   "metadata": {},
   "source": [
    "Priorities"
   ]
  },
  {
   "cell_type": "code",
   "execution_count": 69,
   "metadata": {},
   "outputs": [],
   "source": [
    "con.sql(\n",
    "    \"\"\"\n",
    "CREATE TABLE priorities_tbl\n",
    "(priority_id INTEGER UNIQUE NOT NULL PRIMARY KEY,\n",
    "theme VARCHAR,\n",
    "biodiversity_priority VARCHAR,\n",
    "simplified_biodiversity_priority VARCHAR\n",
    ");\n",
    "    \"\"\"\n",
    ")"
   ]
  },
  {
   "cell_type": "markdown",
   "metadata": {},
   "source": [
    "Species"
   ]
  },
  {
   "cell_type": "code",
   "execution_count": 70,
   "metadata": {},
   "outputs": [],
   "source": [
    "con.sql(\n",
    "    '''\n",
    "CREATE TABLE species_tbl(\n",
    " species_id INTEGER UNIQUE NOT NULL PRIMARY KEY,\n",
    " taxa VARCHAR,\n",
    " common_name VARCHAR,\n",
    " assemblage VARCHAR,\n",
    " usage_key INTEGER,\n",
    " scientific_name VARCHAR,\n",
    " canonical_name VARCHAR,\n",
    " status VARCHAR,\n",
    " kingdom VARCHAR,\n",
    " phylum VARCHAR,\n",
    " \"order\" VARCHAR,\n",
    " family VARCHAR,\n",
    " genus VARCHAR,\n",
    " species VARCHAR,\n",
    " kingdom_key INTEGER,\n",
    " phylum_key INTEGER,\n",
    " class_key INTEGER,\n",
    " order_key INTEGER,\n",
    " family_key INTEGER,\n",
    " genus_key INTEGER,\n",
    " species_key INTEGER,\n",
    " synonym BOOL,\n",
    " class VARCHAR,\n",
    " accepted_usage_key INTEGER,\n",
    " verbatim_name VARCHAR,\n",
    " gbif_species_url VARCHAR\n",
    "    \n",
    ");\n",
    "    '''\n",
    ")"
   ]
  },
  {
   "cell_type": "markdown",
   "metadata": {},
   "source": [
    "Priorities Measures Lookup"
   ]
  },
  {
   "cell_type": "code",
   "execution_count": 71,
   "metadata": {},
   "outputs": [],
   "source": [
    "con.sql(\n",
    "    \"\"\"\n",
    "CREATE TABLE priorities_measures_lookup_tbl(\n",
    "    id INTEGER UNIQUE NOT NULL PRIMARY KEY,\n",
    "    priority_id INTEGER,\n",
    "    priority_measure_id INTEGER,\n",
    "    FOREIGN KEY (priority_id) REFERENCES priorities_tbl (priority_id),\n",
    "    FOREIGN KEY (priority_measure_id) REFERENCES priority_measures_tbl (priority_measure_id)\n",
    ");\n",
    "    \"\"\"\n",
    ")"
   ]
  },
  {
   "cell_type": "markdown",
   "metadata": {},
   "source": [
    "Priorities Areas Measures Lookup"
   ]
  },
  {
   "cell_type": "code",
   "execution_count": 72,
   "metadata": {},
   "outputs": [],
   "source": [
    "con.sql(\n",
    "    \"\"\"\n",
    "CREATE TABLE priorities_areas_measures_lookup_tbl(\n",
    "    id INTEGER UNIQUE NOT NULL PRIMARY KEY,\n",
    "    priority_id INTEGER,\n",
    "    area_id INTEGER,\n",
    "    area_measure_id INTEGER,\n",
    "    FOREIGN KEY (area_measure_id) REFERENCES area_measures_tbl (area_measure_id),\n",
    "    FOREIGN KEY (priority_id) REFERENCES priorities_tbl (priority_id),\n",
    "    FOREIGN KEY (area_id) REFERENCES areas_tbl (area_id)\n",
    ");\n",
    "    \"\"\"\n",
    ")"
   ]
  },
  {
   "cell_type": "markdown",
   "metadata": {},
   "source": [
    "Priorities Areas Lookup"
   ]
  },
  {
   "cell_type": "code",
   "execution_count": 73,
   "metadata": {},
   "outputs": [],
   "source": [
    "con.sql(\n",
    "    \"\"\"\n",
    "CREATE TABLE priorities_areas_lookup_tbl(\n",
    "    id INTEGER UNIQUE NOT NULL PRIMARY KEY,\n",
    "    priority_id INTEGER,\n",
    "    area_id INTEGER,\n",
    "    FOREIGN KEY (area_id) REFERENCES areas_tbl (area_id),\n",
    "    FOREIGN KEY (priority_id) REFERENCES priorities_tbl (priority_id)\n",
    ");\n",
    "    \"\"\"\n",
    ")"
   ]
  },
  {
   "cell_type": "markdown",
   "metadata": {},
   "source": [
    "Species Priority Lookup"
   ]
  },
  {
   "cell_type": "code",
   "execution_count": 74,
   "metadata": {},
   "outputs": [],
   "source": [
    "con.sql(\n",
    "    \"\"\"\n",
    "CREATE TABLE species_priority_lookup_tbl(\n",
    "    id INTEGER UNIQUE NOT NULL PRIMARY KEY,\n",
    "    priority_id INTEGER,\n",
    "    species_id INTEGER,\n",
    "    FOREIGN KEY (species_id) REFERENCES species_tbl (species_id),\n",
    "    FOREIGN KEY (priority_id) REFERENCES priorities_tbl (priority_id)\n",
    ");\n",
    "    \"\"\"\n",
    ")"
   ]
  },
  {
   "cell_type": "markdown",
   "metadata": {},
   "source": [
    "Species Area Lookup"
   ]
  },
  {
   "cell_type": "code",
   "execution_count": 75,
   "metadata": {},
   "outputs": [],
   "source": [
    "con.sql(\n",
    "    \"\"\"\n",
    "CREATE TABLE species_area_lookup_tbl(\n",
    "    id INTEGER UNIQUE NOT NULL PRIMARY KEY,\n",
    "    species_id INTEGER,\n",
    "    area_id INTEGER,\n",
    "    FOREIGN KEY (species_id) REFERENCES species_tbl (species_id),\n",
    "    FOREIGN KEY (area_id) REFERENCES areas_tbl (area_id)\n",
    ");\n",
    "    \"\"\"\n",
    ")"
   ]
  },
  {
   "cell_type": "markdown",
   "metadata": {},
   "source": [
    "Priority Measures Grants Lookup"
   ]
  },
  {
   "cell_type": "code",
   "execution_count": 76,
   "metadata": {},
   "outputs": [],
   "source": [
    "con.sql(\n",
    "    \"\"\"\n",
    "CREATE TABLE priority_measures_grants_lookup_tbl(\n",
    "    id INTEGER UNIQUE NOT NULL PRIMARY KEY,\n",
    "    priority_measure_id INTEGER,\n",
    "    grant_id VARCHAR (255),\n",
    "    FOREIGN KEY (priority_measure_id) REFERENCES priority_measures_tbl (priority_measure_id),\n",
    "    FOREIGN KEY (grant_id) REFERENCES grants_tbl (grant_id)\n",
    ");\n",
    "    \"\"\"\n",
    ")"
   ]
  },
  {
   "cell_type": "markdown",
   "metadata": {},
   "source": [
    "Areas Measures Grants Lookup"
   ]
  },
  {
   "cell_type": "code",
   "execution_count": 77,
   "metadata": {},
   "outputs": [],
   "source": [
    "con.sql(\n",
    "    \"\"\"\n",
    "CREATE TABLE areas_measures_grants_lookup_tbl(\n",
    "    id INTEGER UNIQUE NOT NULL PRIMARY KEY,\n",
    "    area_measure_id INTEGER,\n",
    "    grant_id VARCHAR (255),\n",
    "    FOREIGN KEY (area_measure_id) REFERENCES area_measures_tbl (area_measure_id),\n",
    "    FOREIGN KEY (grant_id) REFERENCES grants_tbl (grant_id)\n",
    ");\n",
    "    \"\"\"\n",
    ")"
   ]
  },
  {
   "cell_type": "code",
   "execution_count": 78,
   "metadata": {},
   "outputs": [
    {
     "data": {
      "text/plain": [
       "['species_area_lookup_tbl',\n",
       " 'priority_measures_grants_lookup_tbl',\n",
       " 'areas_measures_grants_lookup_tbl',\n",
       " 'grants_tbl',\n",
       " 'areas_tbl',\n",
       " 'area_funding_schemes_tbl',\n",
       " 'priority_measures_tbl',\n",
       " 'area_measures_tbl',\n",
       " 'priorities_tbl',\n",
       " 'species_tbl',\n",
       " 'priorities_measures_lookup_tbl',\n",
       " 'priorities_areas_measures_lookup_tbl',\n",
       " 'priorities_areas_lookup_tbl',\n",
       " 'species_priority_lookup_tbl']"
      ]
     },
     "execution_count": 78,
     "metadata": {},
     "output_type": "execute_result"
    }
   ],
   "source": [
    "get_tables_list(con)"
   ]
  },
  {
   "cell_type": "code",
   "execution_count": 79,
   "metadata": {},
   "outputs": [
    {
     "name": "stdout",
     "output_type": "stream",
     "text": [
      "Transaction rolled back due to an error: Invalid Input Error: Error in file \"data/portal_upload/priorities-measures-lookup-tbl.csv\" on line 3: expected 4 values per row, but got 3.\n",
      "Parser options:\n",
      "  file=data/portal_upload/priorities-measures-lookup-tbl.csv\n",
      "  delimiter=';'\n",
      "  quote='\"' (default)\n",
      "  escape='\"' (default)\n",
      "  header=1\n",
      "  sample_size=20480\n",
      "  ignore_errors=0\n",
      "  all_varchar=0\n"
     ]
    }
   ],
   "source": [
    "try:\n",
    "    con.execute(\"BEGIN TRANSACTION;\")\n",
    "    con.execute(\"COPY grants_tbl FROM 'data/portal_upload/grants-tbl.csv'(DELIMITER ';', HEADER);\")\n",
    "    con.execute(\"COPY areas_tbl FROM 'data/portal_upload/areas-tbl.csv'(DELIMITER ';', HEADER);\")\n",
    "    con.execute(\"COPY area_funding_schemes_tbl FROM 'data/portal_upload/area-funding-schemes-tbl.csv'(DELIMITER ';', HEADER);\")\n",
    "    con.execute(\"COPY priority_measures_tbl FROM 'data/portal_upload/priority-measures-tbl.csv'(DELIMITER ';', HEADER);\")\n",
    "    con.execute(\"COPY area_measures_tbl FROM 'data/portal_upload/area-measures-tbl.csv'(DELIMITER ';', HEADER);\")\n",
    "    con.execute(\"COPY priorities_tbl FROM 'data/portal_upload/priorities-tbl.csv'(DELIMITER ';', HEADER);\")\n",
    "    con.execute(\"COPY species_tbl FROM 'data/portal_upload/species-tbl.csv'(DELIMITER ';', HEADER);\")\n",
    "    con.execute(\"COPY priorities_measures_lookup_tbl FROM 'data/portal_upload/priorities-measures-lookup-tbl.csv'(DELIMITER ';', HEADER);\")\n",
    "    con.execute(\"COPY priorities_areas_measures_lookup_tbl FROM 'data/portal_upload/priorities-areas-measures-lookup-tbl.csv'(DELIMITER ';', HEADER);\")\n",
    "    con.execute(\"COPY priorities_areas_lookup_tbl FROM 'data/portal_upload/priorities-areas-lookup-tbl.csv'(DELIMITER ';', HEADER);\")\n",
    "    con.execute(\"COPY species_priority_lookup_tbl FROM 'data/portal_upload/species-priority-lookup-tbl.csv'(DELIMITER ';', HEADER);\")\n",
    "    con.execute(\"COPY species_area_lookup_tbl FROM 'data/portal_upload/species-area-lookup-tbl.csv'(DELIMITER ';', HEADER);\")\n",
    "    con.execute(\"COPY priority_measures_grants_lookup_tbl FROM 'data/portal_upload/priority-measures-grants-lookup-tbl.csv'(DELIMITER ';', HEADER);\")\n",
    "    con.execute(\"COPY areas_measures_grants_lookup_tbl FROM 'data/portal_upload/areas-measures-grants-lookup-tbl.csv'(DELIMITER ';', HEADER);\")\n",
    "    con.execute(\"COMMIT;\")\n",
    "except Exception as e:\n",
    "    # If an error occurs, rollback the transaction\n",
    "    con.execute(\"ROLLBACK;\")\n",
    "    print(f\"Transaction rolled back due to an error: {e}\")"
   ]
  },
  {
   "cell_type": "code",
   "execution_count": 53,
   "metadata": {},
   "outputs": [],
   "source": [
    "con.sql(\n",
    "'''\n",
    "COPY lnrs_all_grants_tbl FROM 'data/portal_upload/lnrs-all-grants-tbl.csv'(DELIMITER ';', HEADER)\n",
    "\n",
    "'''\n",
    ")"
   ]
  },
  {
   "cell_type": "code",
   "execution_count": 54,
   "metadata": {},
   "outputs": [
    {
     "data": {
      "text/plain": [
       "┌──────────────────────┬──────────────────────┬──────────┬───┬──────────────────┬──────────────────────┐\n",
       "│         url          │      grant_name      │ grant_id │ … │  annual_payment  │     grant_focus      │\n",
       "│       varchar        │       varchar        │ varchar  │   │     varchar      │       varchar        │\n",
       "├──────────────────────┼──────────────────────┼──────────┼───┼──────────────────┼──────────────────────┤\n",
       "│ https://www.gov.uk…  │ SP10: Administrati…  │ SP10     │ … │ NULL             │ Additional supplem…  │\n",
       "│ https://www.gov.uk…  │ WD9: Livestock exc…  │ WD9      │ … │ NULL             │ Woodland and scrub   │\n",
       "│ https://www.gov.uk…  │ WD8: Creation of s…  │ WD8      │ … │ NULL             │ Woodland and scrub   │\n",
       "│ https://www.gov.uk…  │ WD7: Management of…  │ WD7      │ … │ NULL             │ Woodland and scrub   │\n",
       "│ https://www.gov.uk…  │ BE1: Protection of…  │ BE1      │ … │ NULL             │ Boundaries, trees …  │\n",
       "│ https://www.gov.uk…  │ BE7: Supplement fo…  │ BE7      │ … │ NULL             │ Boundaries, trees …  │\n",
       "│ https://www.gov.uk…  │ HS1: Maintenance o…  │ HS1      │ … │ NULL             │ Historic environment │\n",
       "│ https://www.gov.uk…  │ HS2: Take historic…  │ HS2      │ … │ NULL             │ Historic environment │\n",
       "│ https://www.gov.uk…  │ HS5: Management of…  │ HS5      │ … │ NULL             │ Historic environment │\n",
       "│ https://www.gov.uk…  │ HS6: Maintenance o…  │ HS6      │ … │ NULL             │ Historic environment │\n",
       "│          ·           │          ·           │  ·       │ · │  ·               │          ·           │\n",
       "│          ·           │          ·           │  ·       │ · │  ·               │          ·           │\n",
       "│          ·           │          ·           │  ·       │ · │  ·               │          ·           │\n",
       "│ https://assets.pub…  │ NUM3: Legume fallow  │ NUM3     │ … │ £593 per ha      │ Nutrient management  │\n",
       "│ https://assets.pub…  │ AHL1: Pollen and n…  │ AHL1     │ … │ £614 per ha      │ Farmland wildlife …  │\n",
       "│ https://assets.pub…  │ AHL2: Winter bird …  │ AHL2     │ … │ £732 per ha      │ Farmland wildlife …  │\n",
       "│ https://assets.pub…  │ AHL3: Grassy field…  │ AHL3     │ … │ £590 per ha      │ Farmland wildlife …  │\n",
       "│ https://assets.pub…  │ IGL1: Take improve…  │ IGL1     │ … │ £333 per ha      │ Farmland wildlife …  │\n",
       "│ https://assets.pub…  │ IGL2: Winter bird …  │ IGL2     │ … │ £474 per ha      │ Farmland wildlife …  │\n",
       "│ https://assets.pub…  │ AHL4: 4m to 12m gr…  │ AHL4     │ … │ £451 per ha      │ Buffer strips        │\n",
       "│ https://assets.pub…  │ IGL3: 4m to 12m gr…  │ IGL3     │ … │ £235 per hectare │ Buffer strips        │\n",
       "│ https://assets.pub…  │ LIG1: Manage grass…  │ LIG1     │ … │ £151 per ha      │ Low input grassland  │\n",
       "│ https://assets.pub…  │ LIG2: Manage grass…  │ LIG2     │ … │ £151 per ha      │ Low input grassland  │\n",
       "├──────────────────────┴──────────────────────┴──────────┴───┴──────────────────┴──────────────────────┤\n",
       "│ 283 rows (20 shown)                                                              6 columns (5 shown) │\n",
       "└──────────────────────────────────────────────────────────────────────────────────────────────────────┘"
      ]
     },
     "execution_count": 54,
     "metadata": {},
     "output_type": "execute_result"
    }
   ],
   "source": [
    "con.sql('SELECT * FROM lnrs_all_grants_tbl')"
   ]
  },
  {
   "cell_type": "code",
   "execution_count": 45,
   "metadata": {},
   "outputs": [
    {
     "ename": "ParserException",
     "evalue": "Parser Error: syntax error at or near \"(\"\nLINE 15:         (url VARCHAR, grant_name VARCHAR, grant_id VARCHAR, grant_scheme VARCHAR, annual_payment VARCHAR, grant_focus VARCHAR)\n        ...\n                 ^",
     "output_type": "error",
     "traceback": [
      "\u001b[1;31m---------------------------------------------------------------------------\u001b[0m",
      "\u001b[1;31mParserException\u001b[0m                           Traceback (most recent call last)",
      "Cell \u001b[1;32mIn[45], line 1\u001b[0m\n\u001b[1;32m----> 1\u001b[0m \u001b[43mcon\u001b[49m\u001b[38;5;241;43m.\u001b[39;49m\u001b[43msql\u001b[49m\u001b[43m(\u001b[49m\u001b[38;5;124;43m'''\u001b[39;49m\n\u001b[0;32m      2\u001b[0m \u001b[38;5;124;43m        CREATE TABLE lnrs_all_grants_tbl AS \u001b[39;49m\n\u001b[0;32m      3\u001b[0m \u001b[38;5;124;43m        SELECT * FROM \u001b[39;49m\n\u001b[0;32m      4\u001b[0m \u001b[38;5;124;43m        read_csv(\u001b[39;49m\n\u001b[0;32m      5\u001b[0m \u001b[38;5;124;43m        \u001b[39;49m\u001b[38;5;124;43m'\u001b[39;49m\u001b[38;5;124;43mdata/portal_upload/lnrs-all-grants-tbl.csv\u001b[39;49m\u001b[38;5;124;43m'\u001b[39;49m\u001b[38;5;124;43m,\u001b[39;49m\n\u001b[0;32m      6\u001b[0m \u001b[38;5;124;43m        header = true,\u001b[39;49m\n\u001b[0;32m      7\u001b[0m \u001b[38;5;124;43m        delim = \u001b[39;49m\u001b[38;5;124;43m'\u001b[39;49m\u001b[38;5;124;43m;\u001b[39;49m\u001b[38;5;124;43m'\u001b[39;49m\u001b[38;5;124;43m,\u001b[39;49m\n\u001b[0;32m      8\u001b[0m \u001b[38;5;124;43m        columns = \u001b[39;49m\u001b[38;5;124;43m{\u001b[39;49m\u001b[38;5;124;43m'\u001b[39;49m\u001b[38;5;124;43murl\u001b[39;49m\u001b[38;5;124;43m'\u001b[39;49m\u001b[38;5;124;43m: \u001b[39;49m\u001b[38;5;124;43m'\u001b[39;49m\u001b[38;5;124;43mVARCHAR\u001b[39;49m\u001b[38;5;124;43m'\u001b[39;49m\u001b[38;5;124;43m,\u001b[39;49m\n\u001b[0;32m      9\u001b[0m \u001b[38;5;124;43m                \u001b[39;49m\u001b[38;5;124;43m'\u001b[39;49m\u001b[38;5;124;43mgrant_name\u001b[39;49m\u001b[38;5;124;43m'\u001b[39;49m\u001b[38;5;124;43m: \u001b[39;49m\u001b[38;5;124;43m'\u001b[39;49m\u001b[38;5;124;43mVARCHAR\u001b[39;49m\u001b[38;5;124;43m'\u001b[39;49m\u001b[38;5;124;43m,\u001b[39;49m\n\u001b[0;32m     10\u001b[0m \u001b[38;5;124;43m                \u001b[39;49m\u001b[38;5;124;43m'\u001b[39;49m\u001b[38;5;124;43mgrant_id\u001b[39;49m\u001b[38;5;124;43m'\u001b[39;49m\u001b[38;5;124;43m: \u001b[39;49m\u001b[38;5;124;43m'\u001b[39;49m\u001b[38;5;124;43mVARCHAR\u001b[39;49m\u001b[38;5;124;43m'\u001b[39;49m\u001b[38;5;124;43m,\u001b[39;49m\n\u001b[0;32m     11\u001b[0m \u001b[38;5;124;43m                \u001b[39;49m\u001b[38;5;124;43m'\u001b[39;49m\u001b[38;5;124;43mgrant_scheme\u001b[39;49m\u001b[38;5;124;43m'\u001b[39;49m\u001b[38;5;124;43m: \u001b[39;49m\u001b[38;5;124;43m'\u001b[39;49m\u001b[38;5;124;43mVARCHAR\u001b[39;49m\u001b[38;5;124;43m'\u001b[39;49m\u001b[38;5;124;43m,\u001b[39;49m\n\u001b[0;32m     12\u001b[0m \u001b[38;5;124;43m                \u001b[39;49m\u001b[38;5;124;43m'\u001b[39;49m\u001b[38;5;124;43mannual_payment\u001b[39;49m\u001b[38;5;124;43m'\u001b[39;49m\u001b[38;5;124;43m: \u001b[39;49m\u001b[38;5;124;43m'\u001b[39;49m\u001b[38;5;124;43mVARCHAR\u001b[39;49m\u001b[38;5;124;43m'\u001b[39;49m\u001b[38;5;124;43m,\u001b[39;49m\n\u001b[0;32m     13\u001b[0m \u001b[38;5;124;43m                \u001b[39;49m\u001b[38;5;124;43m'\u001b[39;49m\u001b[38;5;124;43mgrant_focus\u001b[39;49m\u001b[38;5;124;43m'\u001b[39;49m\u001b[38;5;124;43m: \u001b[39;49m\u001b[38;5;124;43m'\u001b[39;49m\u001b[38;5;124;43mVARCHAR\u001b[39;49m\u001b[38;5;124;43m'\u001b[39;49m\u001b[38;5;124;43m}\u001b[39;49m\n\u001b[0;32m     14\u001b[0m \u001b[38;5;124;43m        ) \u001b[39;49m\n\u001b[0;32m     15\u001b[0m \u001b[38;5;124;43m        (url VARCHAR, grant_name VARCHAR, grant_id VARCHAR, grant_scheme VARCHAR, annual_payment VARCHAR, grant_focus VARCHAR)\u001b[39;49m\n\u001b[0;32m     16\u001b[0m \u001b[38;5;124;43m        \u001b[39;49m\u001b[38;5;124;43m'''\u001b[39;49m\u001b[43m)\u001b[49m\n",
      "\u001b[1;31mParserException\u001b[0m: Parser Error: syntax error at or near \"(\"\nLINE 15:         (url VARCHAR, grant_name VARCHAR, grant_id VARCHAR, grant_scheme VARCHAR, annual_payment VARCHAR, grant_focus VARCHAR)\n        ...\n                 ^"
     ]
    }
   ],
   "source": [
    "con.sql('''\n",
    "        CREATE TABLE lnrs_all_grants_tbl AS \n",
    "        SELECT * FROM \n",
    "        read_csv(\n",
    "        'data/portal_upload/lnrs-all-grants-tbl.csv',\n",
    "        header = true,\n",
    "        delim = ';',\n",
    "        columns = {'url': 'VARCHAR',\n",
    "                'grant_name': 'VARCHAR',\n",
    "                'grant_id': 'VARCHAR',\n",
    "                'grant_scheme': 'VARCHAR',\n",
    "                'annual_payment': 'VARCHAR',\n",
    "                'grant_focus': 'VARCHAR'}\n",
    "        ) \n",
    "        \n",
    "        ''')"
   ]
  },
  {
   "cell_type": "code",
   "execution_count": 51,
   "metadata": {},
   "outputs": [],
   "source": [
    "con.sql('''\n",
    "       DROP TABLE lnrs_all_grants_tbl \n",
    "        \n",
    "        \n",
    "'''\n",
    "        )"
   ]
  },
  {
   "cell_type": "code",
   "execution_count": 41,
   "metadata": {},
   "outputs": [
    {
     "data": {
      "text/plain": [
       "┌──────────────────────┬──────────────────────┬──────────┬───┬──────────────────┬──────────────────────┐\n",
       "│         url          │      grant_name      │ grant_id │ … │  annual_payment  │     grant_focus      │\n",
       "│       varchar        │       varchar        │ varchar  │   │     varchar      │       varchar        │\n",
       "├──────────────────────┼──────────────────────┼──────────┼───┼──────────────────┼──────────────────────┤\n",
       "│ https://www.gov.uk…  │ SP10: Administrati…  │ SP10     │ … │ NULL             │ Additional supplem…  │\n",
       "│ https://www.gov.uk…  │ WD9: Livestock exc…  │ WD9      │ … │ NULL             │ Woodland and scrub   │\n",
       "│ https://www.gov.uk…  │ WD8: Creation of s…  │ WD8      │ … │ NULL             │ Woodland and scrub   │\n",
       "│ https://www.gov.uk…  │ WD7: Management of…  │ WD7      │ … │ NULL             │ Woodland and scrub   │\n",
       "│ https://www.gov.uk…  │ BE1: Protection of…  │ BE1      │ … │ NULL             │ Boundaries, trees …  │\n",
       "│ https://www.gov.uk…  │ BE7: Supplement fo…  │ BE7      │ … │ NULL             │ Boundaries, trees …  │\n",
       "│ https://www.gov.uk…  │ HS1: Maintenance o…  │ HS1      │ … │ NULL             │ Historic environment │\n",
       "│ https://www.gov.uk…  │ HS2: Take historic…  │ HS2      │ … │ NULL             │ Historic environment │\n",
       "│ https://www.gov.uk…  │ HS5: Management of…  │ HS5      │ … │ NULL             │ Historic environment │\n",
       "│ https://www.gov.uk…  │ HS6: Maintenance o…  │ HS6      │ … │ NULL             │ Historic environment │\n",
       "│          ·           │          ·           │  ·       │ · │  ·               │          ·           │\n",
       "│          ·           │          ·           │  ·       │ · │  ·               │          ·           │\n",
       "│          ·           │          ·           │  ·       │ · │  ·               │          ·           │\n",
       "│ https://assets.pub…  │ NUM3: Legume fallow  │ NUM3     │ … │ £593 per ha      │ Nutrient management  │\n",
       "│ https://assets.pub…  │ AHL1: Pollen and n…  │ AHL1     │ … │ £614 per ha      │ Farmland wildlife …  │\n",
       "│ https://assets.pub…  │ AHL2: Winter bird …  │ AHL2     │ … │ £732 per ha      │ Farmland wildlife …  │\n",
       "│ https://assets.pub…  │ AHL3: Grassy field…  │ AHL3     │ … │ £590 per ha      │ Farmland wildlife …  │\n",
       "│ https://assets.pub…  │ IGL1: Take improve…  │ IGL1     │ … │ £333 per ha      │ Farmland wildlife …  │\n",
       "│ https://assets.pub…  │ IGL2: Winter bird …  │ IGL2     │ … │ £474 per ha      │ Farmland wildlife …  │\n",
       "│ https://assets.pub…  │ AHL4: 4m to 12m gr…  │ AHL4     │ … │ £451 per ha      │ Buffer strips        │\n",
       "│ https://assets.pub…  │ IGL3: 4m to 12m gr…  │ IGL3     │ … │ £235 per hectare │ Buffer strips        │\n",
       "│ https://assets.pub…  │ LIG1: Manage grass…  │ LIG1     │ … │ £151 per ha      │ Low input grassland  │\n",
       "│ https://assets.pub…  │ LIG2: Manage grass…  │ LIG2     │ … │ £151 per ha      │ Low input grassland  │\n",
       "├──────────────────────┴──────────────────────┴──────────┴───┴──────────────────┴──────────────────────┤\n",
       "│ 283 rows (20 shown)                                                              6 columns (5 shown) │\n",
       "└──────────────────────────────────────────────────────────────────────────────────────────────────────┘"
      ]
     },
     "execution_count": 41,
     "metadata": {},
     "output_type": "execute_result"
    }
   ],
   "source": [
    "con.sql('SELECT * FROM lnrs_all_grants_tbl')"
   ]
  },
  {
   "cell_type": "code",
   "execution_count": 36,
   "metadata": {},
   "outputs": [],
   "source": [
    "con.close()"
   ]
  },
  {
   "cell_type": "code",
   "execution_count": null,
   "metadata": {},
   "outputs": [],
   "source": []
  }
 ],
 "metadata": {
  "kernelspec": {
   "display_name": "Python 3",
   "language": "python",
   "name": "python3"
  },
  "language_info": {
   "codemirror_mode": {
    "name": "ipython",
    "version": 3
   },
   "file_extension": ".py",
   "mimetype": "text/x-python",
   "name": "python",
   "nbconvert_exporter": "python",
   "pygments_lexer": "ipython3",
   "version": "3.10.0"
  }
 },
 "nbformat": 4,
 "nbformat_minor": 2
}
