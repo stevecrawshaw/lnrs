{
 "cells": [
  {
   "cell_type": "code",
   "execution_count": 1,
   "metadata": {},
   "outputs": [],
   "source": [
    "import polars as pl\n",
    "import duckdb\n"
   ]
  },
  {
   "cell_type": "code",
   "execution_count": 2,
   "metadata": {},
   "outputs": [],
   "source": [
    "# use to get a dict of cols and dtypes to define table fields\n",
    "# cols = pl.read_csv('data/portal_upload/species-tbl.csv', separator=';').columns\n",
    "# dtypes = pl.read_csv('data/portal_upload/species-tbl.csv', separator=';').dtypes"
   ]
  },
  {
   "cell_type": "code",
   "execution_count": 3,
   "metadata": {},
   "outputs": [],
   "source": [
    "# dict(zip(cols, dtypes))"
   ]
  },
  {
   "cell_type": "code",
   "execution_count": 4,
   "metadata": {},
   "outputs": [],
   "source": [
    "# pl_df = pl.read_csv('data/portal_upload/grants-tbl.csv', separator=\";\")"
   ]
  },
  {
   "cell_type": "code",
   "execution_count": 5,
   "metadata": {},
   "outputs": [],
   "source": [
    "# pl_df.glimpse()"
   ]
  },
  {
   "cell_type": "code",
   "execution_count": 6,
   "metadata": {},
   "outputs": [],
   "source": [
    "con = duckdb.connect('data/lnrs_db.duckdb')"
   ]
  },
  {
   "cell_type": "code",
   "execution_count": 7,
   "metadata": {},
   "outputs": [],
   "source": [
    "def get_tables_list(con):\n",
    "    tables = con.execute(\"SELECT table_name FROM information_schema.tables WHERE table_schema = 'main'\").fetchall()\n",
    "    # This will print the list of table names\n",
    "    table_list= [table[0] for table in tables]\n",
    "    return table_list\n",
    "\n"
   ]
  },
  {
   "cell_type": "code",
   "execution_count": 8,
   "metadata": {},
   "outputs": [
    {
     "data": {
      "text/plain": [
       "['grants_tbl',\n",
       " 'areas_tbl',\n",
       " 'priority_measures_tbl',\n",
       " 'area_measures_tbl',\n",
       " 'priorities_tbl',\n",
       " 'species_tbl',\n",
       " 'area_funding_schemes_tbl',\n",
       " 'priorities_measures_lookup_tbl',\n",
       " 'priorities_areas_measures_lookup_tbl',\n",
       " 'priorities_areas_lookup_tbl',\n",
       " 'species_priority_lookup_tbl',\n",
       " 'species_area_lookup_tbl',\n",
       " 'priority_measures_grants_lookup_tbl',\n",
       " 'areas_measures_grants_lookup_tbl']"
      ]
     },
     "execution_count": 8,
     "metadata": {},
     "output_type": "execute_result"
    }
   ],
   "source": [
    "table_list = get_tables_list(con)\n",
    "reversed_table_list = table_list[::-1] # needs reversing to delete lookup tables first to avoid constraint error\n",
    "table_list"
   ]
  },
  {
   "cell_type": "code",
   "execution_count": 9,
   "metadata": {},
   "outputs": [],
   "source": [
    "for table in reversed_table_list:\n",
    "    con.execute(f\"DROP TABLE IF EXISTS {table}\")"
   ]
  },
  {
   "cell_type": "markdown",
   "metadata": {},
   "source": [
    "Grants\n"
   ]
  },
  {
   "cell_type": "code",
   "execution_count": 10,
   "metadata": {},
   "outputs": [],
   "source": [
    "con.sql(\n",
    "    \"\"\"\n",
    "CREATE TABLE grants_tbl \n",
    "(\n",
    "grant_id VARCHAR (255) UNIQUE NOT NULL PRIMARY KEY,\n",
    "id INT,\n",
    "url VARCHAR (255),\n",
    "grant_name VARCHAR (255),\n",
    "grant_focus VARCHAR (255),\n",
    "grant_scheme VARCHAR (255),\n",
    "annual_payment VARCHAR (255)\n",
    ");\n",
    "\"\"\"\n",
    ")"
   ]
  },
  {
   "cell_type": "markdown",
   "metadata": {},
   "source": [
    "Areas"
   ]
  },
  {
   "cell_type": "code",
   "execution_count": 11,
   "metadata": {},
   "outputs": [],
   "source": [
    "con.sql(\n",
    "    \"\"\"\n",
    "CREATE TABLE areas_tbl (\n",
    "    area_id INTEGER UNIQUE NOT NULL PRIMARY KEY,\n",
    "    area_name VARCHAR,\n",
    "    area_description VARCHAR,\n",
    "    area_link VARCHAR\n",
    ");\n",
    "    \"\"\"\n",
    ")"
   ]
  },
  {
   "cell_type": "markdown",
   "metadata": {},
   "source": [
    "Funding Schemes"
   ]
  },
  {
   "cell_type": "code",
   "execution_count": 12,
   "metadata": {},
   "outputs": [],
   "source": [
    "con.sql(\n",
    "    \"\"\"\n",
    "CREATE TABLE area_funding_schemes_tbl \n",
    "(id INTEGER UNIQUE NOT NULL PRIMARY KEY,\n",
    "area_id INTEGER,\n",
    "funding_schemes VARCHAR,\n",
    "FOREIGN KEY (area_id) REFERENCES areas_tbl (area_id));\n",
    "    \"\"\"\n",
    ")"
   ]
  },
  {
   "cell_type": "markdown",
   "metadata": {},
   "source": [
    "Priority Measures"
   ]
  },
  {
   "cell_type": "code",
   "execution_count": 13,
   "metadata": {},
   "outputs": [],
   "source": [
    "con.sql(\n",
    "    \"\"\"\n",
    "CREATE TABLE priority_measures_tbl(\n",
    "    priority_measure_id INTEGER UNIQUE NOT NULL PRIMARY KEY,\n",
    "    measure VARCHAR,\n",
    "    level_of_ambition VARCHAR,\n",
    "    land_type VARCHAR,\n",
    "    stakeholder VARCHAR,\n",
    "    link_to_further_guidance VARCHAR\n",
    ");\n",
    "    \"\"\"\n",
    ")"
   ]
  },
  {
   "cell_type": "markdown",
   "metadata": {},
   "source": [
    "Area Measures"
   ]
  },
  {
   "cell_type": "code",
   "execution_count": 14,
   "metadata": {},
   "outputs": [],
   "source": [
    "con.sql(\n",
    "    \"\"\"\n",
    "CREATE TABLE area_measures_tbl(\n",
    "    area_measure_id INTEGER UNIQUE NOT NULL PRIMARY KEY,\n",
    "    measure VARCHAR,\n",
    "    level_of_ambition VARCHAR,\n",
    "    land_type VARCHAR,\n",
    "    stakeholder VARCHAR\n",
    ");\n",
    "    \"\"\"\n",
    ")"
   ]
  },
  {
   "cell_type": "markdown",
   "metadata": {},
   "source": [
    "Priorities"
   ]
  },
  {
   "cell_type": "code",
   "execution_count": 15,
   "metadata": {},
   "outputs": [],
   "source": [
    "con.sql(\n",
    "    \"\"\"\n",
    "CREATE TABLE priorities_tbl\n",
    "(priority_id INTEGER UNIQUE NOT NULL PRIMARY KEY,\n",
    "theme VARCHAR,\n",
    "biodiversity_priority VARCHAR,\n",
    "simplified_biodiversity_priority VARCHAR\n",
    ");\n",
    "    \"\"\"\n",
    ")"
   ]
  },
  {
   "cell_type": "markdown",
   "metadata": {},
   "source": [
    "Species"
   ]
  },
  {
   "cell_type": "code",
   "execution_count": 16,
   "metadata": {},
   "outputs": [],
   "source": [
    "con.sql(\n",
    "    '''\n",
    "CREATE TABLE species_tbl(\n",
    " species_id INTEGER UNIQUE NOT NULL PRIMARY KEY,\n",
    " taxa VARCHAR,\n",
    " common_name VARCHAR,\n",
    " assemblage VARCHAR,\n",
    " usage_key INTEGER,\n",
    " scientific_name VARCHAR,\n",
    " canonical_name VARCHAR,\n",
    " status VARCHAR,\n",
    " kingdom VARCHAR,\n",
    " phylum VARCHAR,\n",
    " \"order\" VARCHAR,\n",
    " family VARCHAR,\n",
    " genus VARCHAR,\n",
    " species VARCHAR,\n",
    " kingdom_key INTEGER,\n",
    " phylum_key INTEGER,\n",
    " class_key INTEGER,\n",
    " order_key INTEGER,\n",
    " family_key INTEGER,\n",
    " genus_key INTEGER,\n",
    " species_key INTEGER,\n",
    " synonym BOOL,\n",
    " class VARCHAR,\n",
    " accepted_usage_key INTEGER,\n",
    " verbatim_name VARCHAR,\n",
    " gbif_species_url VARCHAR\n",
    "    \n",
    ");\n",
    "    '''\n",
    ")"
   ]
  },
  {
   "cell_type": "markdown",
   "metadata": {},
   "source": [
    "Priorities Measures Lookup"
   ]
  },
  {
   "cell_type": "code",
   "execution_count": 17,
   "metadata": {},
   "outputs": [],
   "source": [
    "con.sql(\n",
    "    \"\"\"\n",
    "CREATE TABLE priorities_measures_lookup_tbl(\n",
    "    id INTEGER UNIQUE NOT NULL PRIMARY KEY,\n",
    "    priority_id INTEGER,\n",
    "    priority_measure_id INTEGER,\n",
    "    FOREIGN KEY (priority_id) REFERENCES priorities_tbl (priority_id),\n",
    "    FOREIGN KEY (priority_measure_id) REFERENCES priority_measures_tbl (priority_measure_id)\n",
    ");\n",
    "    \"\"\"\n",
    ")"
   ]
  },
  {
   "cell_type": "markdown",
   "metadata": {},
   "source": [
    "Priorities Areas Measures Lookup"
   ]
  },
  {
   "cell_type": "code",
   "execution_count": 18,
   "metadata": {},
   "outputs": [],
   "source": [
    "con.sql(\n",
    "    \"\"\"\n",
    "CREATE TABLE priorities_areas_measures_lookup_tbl(\n",
    "    id INTEGER UNIQUE NOT NULL PRIMARY KEY,\n",
    "    priority_id INTEGER,\n",
    "    area_id INTEGER,\n",
    "    area_measure_id INTEGER,\n",
    "    FOREIGN KEY (area_measure_id) REFERENCES area_measures_tbl (area_measure_id),\n",
    "    FOREIGN KEY (priority_id) REFERENCES priorities_tbl (priority_id),\n",
    "    FOREIGN KEY (area_id) REFERENCES areas_tbl (area_id)\n",
    ");\n",
    "    \"\"\"\n",
    ")"
   ]
  },
  {
   "cell_type": "markdown",
   "metadata": {},
   "source": [
    "Priorities Areas Lookup"
   ]
  },
  {
   "cell_type": "code",
   "execution_count": 19,
   "metadata": {},
   "outputs": [],
   "source": [
    "con.sql(\n",
    "    \"\"\"\n",
    "CREATE TABLE priorities_areas_lookup_tbl(\n",
    "    id INTEGER UNIQUE NOT NULL PRIMARY KEY,\n",
    "    priority_id INTEGER,\n",
    "    area_id INTEGER,\n",
    "    FOREIGN KEY (area_id) REFERENCES areas_tbl (area_id),\n",
    "    FOREIGN KEY (priority_id) REFERENCES priorities_tbl (priority_id)\n",
    ");\n",
    "    \"\"\"\n",
    ")"
   ]
  },
  {
   "cell_type": "markdown",
   "metadata": {},
   "source": [
    "Species Priority Lookup"
   ]
  },
  {
   "cell_type": "code",
   "execution_count": 20,
   "metadata": {},
   "outputs": [],
   "source": [
    "con.sql(\n",
    "    \"\"\"\n",
    "CREATE TABLE species_priority_lookup_tbl(\n",
    "    id INTEGER UNIQUE NOT NULL PRIMARY KEY,\n",
    "    priority_id INTEGER,\n",
    "    species_id INTEGER,\n",
    "    FOREIGN KEY (species_id) REFERENCES species_tbl (species_id),\n",
    "    FOREIGN KEY (priority_id) REFERENCES priorities_tbl (priority_id)\n",
    ");\n",
    "    \"\"\"\n",
    ")"
   ]
  },
  {
   "cell_type": "markdown",
   "metadata": {},
   "source": [
    "Species Area Lookup"
   ]
  },
  {
   "cell_type": "code",
   "execution_count": 21,
   "metadata": {},
   "outputs": [],
   "source": [
    "con.sql(\n",
    "    \"\"\"\n",
    "CREATE TABLE species_area_lookup_tbl(\n",
    "    id INTEGER UNIQUE NOT NULL PRIMARY KEY,\n",
    "    species_id INTEGER,\n",
    "    area_id INTEGER,\n",
    "    FOREIGN KEY (species_id) REFERENCES species_tbl (species_id),\n",
    "    FOREIGN KEY (area_id) REFERENCES areas_tbl (area_id)\n",
    ");\n",
    "    \"\"\"\n",
    ")"
   ]
  },
  {
   "cell_type": "markdown",
   "metadata": {},
   "source": [
    "Priority Measures Grants Lookup"
   ]
  },
  {
   "cell_type": "code",
   "execution_count": 22,
   "metadata": {},
   "outputs": [],
   "source": [
    "con.sql(\n",
    "    \"\"\"\n",
    "CREATE TABLE priority_measures_grants_lookup_tbl(\n",
    "    id INTEGER UNIQUE NOT NULL PRIMARY KEY,\n",
    "    priority_measure_id INTEGER,\n",
    "    grant_id VARCHAR (255),\n",
    "    FOREIGN KEY (priority_measure_id) REFERENCES priority_measures_tbl (priority_measure_id),\n",
    "    FOREIGN KEY (grant_id) REFERENCES grants_tbl (grant_id)\n",
    ");\n",
    "    \"\"\"\n",
    ")"
   ]
  },
  {
   "cell_type": "markdown",
   "metadata": {},
   "source": [
    "Areas Measures Grants Lookup"
   ]
  },
  {
   "cell_type": "code",
   "execution_count": 23,
   "metadata": {},
   "outputs": [],
   "source": [
    "con.sql(\n",
    "    \"\"\"\n",
    "CREATE TABLE areas_measures_grants_lookup_tbl(\n",
    "    id INTEGER UNIQUE NOT NULL PRIMARY KEY,\n",
    "    area_measure_id INTEGER,\n",
    "    grant_id VARCHAR (255),\n",
    "    FOREIGN KEY (area_measure_id) REFERENCES area_measures_tbl (area_measure_id),\n",
    "    FOREIGN KEY (grant_id) REFERENCES grants_tbl (grant_id)\n",
    ");\n",
    "    \"\"\"\n",
    ")"
   ]
  },
  {
   "cell_type": "code",
   "execution_count": 24,
   "metadata": {},
   "outputs": [
    {
     "data": {
      "text/plain": [
       "['grants_tbl',\n",
       " 'areas_tbl',\n",
       " 'area_funding_schemes_tbl',\n",
       " 'priority_measures_tbl',\n",
       " 'area_measures_tbl',\n",
       " 'priorities_tbl',\n",
       " 'species_tbl',\n",
       " 'priorities_measures_lookup_tbl',\n",
       " 'priorities_areas_measures_lookup_tbl',\n",
       " 'priorities_areas_lookup_tbl',\n",
       " 'species_priority_lookup_tbl',\n",
       " 'species_area_lookup_tbl',\n",
       " 'priority_measures_grants_lookup_tbl',\n",
       " 'areas_measures_grants_lookup_tbl']"
      ]
     },
     "execution_count": 24,
     "metadata": {},
     "output_type": "execute_result"
    }
   ],
   "source": [
    "get_tables_list(con)"
   ]
  },
  {
   "cell_type": "code",
   "execution_count": 25,
   "metadata": {},
   "outputs": [],
   "source": [
    "try:\n",
    "    con.execute(\"BEGIN TRANSACTION;\")\n",
    "    con.execute(\"COPY grants_tbl FROM 'data/portal_upload/grants-tbl.csv'(DELIMITER ';', HEADER);\")\n",
    "    con.execute(\"COPY areas_tbl FROM 'data/portal_upload/areas-tbl.csv'(DELIMITER ';', HEADER);\")\n",
    "    con.execute(\"COPY area_funding_schemes_tbl FROM 'data/portal_upload/area-funding-schemes-tbl.csv'(DELIMITER ';', HEADER);\")\n",
    "    con.execute(\"COPY priority_measures_tbl FROM 'data/portal_upload/priority-measures-tbl.csv'(DELIMITER ';', HEADER);\")\n",
    "    con.execute(\"COPY area_measures_tbl FROM 'data/portal_upload/area-measures-tbl.csv'(DELIMITER ';', HEADER);\")\n",
    "    con.execute(\"COPY priorities_tbl FROM 'data/portal_upload/priorities-tbl.csv'(DELIMITER ';', HEADER);\")\n",
    "    con.execute(\"COPY species_tbl FROM 'data/portal_upload/species-tbl.csv'(DELIMITER ';', HEADER);\")\n",
    "    con.execute(\"COPY priorities_measures_lookup_tbl FROM 'data/portal_upload/priorities-measures-lookup-tbl.csv'(DELIMITER ';', HEADER);\")\n",
    "    con.execute(\"COPY priorities_areas_measures_lookup_tbl FROM 'data/portal_upload/priorities-areas-measures-lookup-tbl.csv'(DELIMITER ';', HEADER);\")\n",
    "    con.execute(\"COPY priorities_areas_lookup_tbl FROM 'data/portal_upload/priorities-areas-lookup-tbl.csv'(DELIMITER ';', HEADER);\")\n",
    "    con.execute(\"COPY species_priority_lookup_tbl FROM 'data/portal_upload/species-priority-lookup-tbl.csv'(DELIMITER ';', HEADER);\")\n",
    "    con.execute(\"COPY species_area_lookup_tbl FROM 'data/portal_upload/species-area-lookup-tbl.csv'(DELIMITER ';', HEADER);\")\n",
    "    con.execute(\"COPY priority_measures_grants_lookup_tbl FROM 'data/portal_upload/priority-measures-grants-lookup-tbl.csv'(DELIMITER ';', HEADER);\")\n",
    "    con.execute(\"COPY areas_measures_grants_lookup_tbl FROM 'data/portal_upload/areas-measures-grants-lookup-tbl.csv'(DELIMITER ';', HEADER);\")\n",
    "    con.execute(\"COMMIT;\")\n",
    "except Exception as e:\n",
    "    # If an error occurs, rollback the transaction\n",
    "    con.execute(\"ROLLBACK;\")\n",
    "    print(f\"Transaction rolled back due to an error: {e}\")"
   ]
  },
  {
   "cell_type": "code",
   "execution_count": 26,
   "metadata": {},
   "outputs": [
    {
     "data": {
      "text/plain": [
       "┌────────────┬───────────────────┬──────────────────────┬───┬──────────────────────┬──────────────────────┐\n",
       "│ species_id │       taxa        │     common_name      │ … │    verbatim_name     │   gbif_species_url   │\n",
       "│   int32    │      varchar      │       varchar        │   │       varchar        │       varchar        │\n",
       "├────────────┼───────────────────┼──────────────────────┼───┼──────────────────────┼──────────────────────┤\n",
       "│          1 │ Bee, wasps, flies │ Long-horned bee      │ … │ Eucera longicornis   │ https://www.gbif.o…  │\n",
       "│          2 │ Bee, wasps, flies │ Western Wood-vase …  │ … │ Myolepta potens      │ https://www.gbif.o…  │\n",
       "│          3 │ Beetle            │ Glow worm            │ … │ Lampyris noctiluca   │ https://www.gbif.o…  │\n",
       "│          4 │ Bird              │ Swift                │ … │ Apus apus            │ https://www.gbif.o…  │\n",
       "│          5 │ Bird              │ Swallow              │ … │ Hirundo rustica      │ https://www.gbif.o…  │\n",
       "│          6 │ Bird              │ House Martin         │ … │ Delichon urbicum     │ https://www.gbif.o…  │\n",
       "│          7 │ Bird              │ House Sparrow        │ … │ Passer domesticus    │ https://www.gbif.o…  │\n",
       "│          8 │ Butterfly         │ Small Blue           │ … │ Cupido minimus       │ https://www.gbif.o…  │\n",
       "│          9 │ Butterfly         │ Small Pearl-border…  │ … │ Boloria selene       │ https://www.gbif.o…  │\n",
       "│         10 │ Butterfly         │ Marsh Fritillary     │ … │ Euphydryas aurinia   │ https://www.gbif.o…  │\n",
       "│          · │   ·               │    ·                 │ · │       ·              │          ·           │\n",
       "│          · │   ·               │    ·                 │ · │       ·              │          ·           │\n",
       "│          · │   ·               │    ·                 │ · │       ·              │          ·           │\n",
       "│         30 │ Plant             │ Honewort             │ … │ Trinia glauca        │ https://www.gbif.o…  │\n",
       "│         31 │ Plant             │ Bristol Whitebeam    │ … │ Sorbus bristoliensis │ https://www.gbif.o…  │\n",
       "│         32 │ Plant             │ Round-leaved White…  │ … │ Sorbus eminens       │ https://www.gbif.o…  │\n",
       "│         33 │ Plant             │ Service-tree         │ … │ Sorbus domestica     │ https://www.gbif.o…  │\n",
       "│         34 │ Plant             │ Bristol Rock-cress   │ … │ Arabis scabra        │ https://www.gbif.o…  │\n",
       "│         35 │ Reptile           │ Adder                │ … │ Vipera berus         │ https://www.gbif.o…  │\n",
       "│         36 │ Bird              │ Lapwing              │ … │ Vanellus vanellus    │ https://www.gbif.o…  │\n",
       "│         37 │ Bird              │ Redshank (bird)      │ … │ Tringa totanus       │ https://www.gbif.o…  │\n",
       "│         38 │ Bird              │ White-fronted Goose  │ … │ Anser albifrons      │ https://www.gbif.o…  │\n",
       "│         39 │ Bird              │ Bewick's Swan        │ … │ Cygnus columbianus   │ https://www.gbif.o…  │\n",
       "├────────────┴───────────────────┴──────────────────────┴───┴──────────────────────┴──────────────────────┤\n",
       "│ 39 rows (20 shown)                                                                 26 columns (5 shown) │\n",
       "└─────────────────────────────────────────────────────────────────────────────────────────────────────────┘"
      ]
     },
     "execution_count": 26,
     "metadata": {},
     "output_type": "execute_result"
    }
   ],
   "source": [
    "con.sql('SELECT * FROM species_tbl')"
   ]
  },
  {
   "cell_type": "code",
   "execution_count": 27,
   "metadata": {},
   "outputs": [],
   "source": [
    "species_df = con.sql(\n",
    "    \"\"\"\n",
    "SELECT biodiversity_priority, common_name \n",
    "FROM priorities_tbl\n",
    "JOIN species_priority_lookup_tbl ON priorities_tbl.priority_id = species_priority_lookup_tbl.priority_id\n",
    "JOIN species_tbl ON species_priority_lookup_tbl.species_id = species_tbl.species_id\n",
    "    \"\"\"\n",
    ").pl()"
   ]
  },
  {
   "cell_type": "code",
   "execution_count": 28,
   "metadata": {},
   "outputs": [
    {
     "data": {
      "text/html": [
       "<div><style>\n",
       ".dataframe > thead > tr > th,\n",
       ".dataframe > tbody > tr > td {\n",
       "  text-align: right;\n",
       "  white-space: pre-wrap;\n",
       "}\n",
       "</style>\n",
       "<small>shape: (137, 2)</small><table border=\"1\" class=\"dataframe\"><thead><tr><th>biodiversity_priority</th><th>common_name</th></tr><tr><td>str</td><td>str</td></tr></thead><tbody><tr><td>&quot;There is a gre…</td><td>&quot;Long-horned be…</td></tr><tr><td>&quot;There are more…</td><td>&quot;Long-horned be…</td></tr><tr><td>&quot;Existing speci…</td><td>&quot;Long-horned be…</td></tr><tr><td>&quot;The farmed lan…</td><td>&quot;Long-horned be…</td></tr><tr><td>&quot;Our designated…</td><td>&quot;Western Wood-v…</td></tr><tr><td>&quot;There is more …</td><td>&quot;Western Wood-v…</td></tr><tr><td>&quot;There are more…</td><td>&quot;Glow worm&quot;</td></tr><tr><td>&quot;Existing speci…</td><td>&quot;Glow worm&quot;</td></tr><tr><td>&quot;Our towns and …</td><td>&quot;Swift&quot;</td></tr><tr><td>&quot;There is more …</td><td>&quot;Swift&quot;</td></tr><tr><td>&quot;There is a gre…</td><td>&quot;Swallow&quot;</td></tr><tr><td>&quot;There are more…</td><td>&quot;Swallow&quot;</td></tr><tr><td>&hellip;</td><td>&hellip;</td></tr><tr><td>&quot;There is a gre…</td><td>&quot;Adder&quot;</td></tr><tr><td>&quot;There is more,…</td><td>&quot;Adder&quot;</td></tr><tr><td>&quot;Our designated…</td><td>&quot;Adder&quot;</td></tr><tr><td>&quot;There is more …</td><td>&quot;Adder&quot;</td></tr><tr><td>&quot;The farmed lan…</td><td>&quot;Adder&quot;</td></tr><tr><td>&quot;There is more …</td><td>&quot;Lapwing&quot;</td></tr><tr><td>&quot;More rivers ar…</td><td>&quot;Lapwing&quot;</td></tr><tr><td>&quot;Lowland peat i…</td><td>&quot;Lapwing&quot;</td></tr><tr><td>&quot;The farmed lan…</td><td>&quot;Lapwing&quot;</td></tr><tr><td>&quot;There is more …</td><td>&quot;Redshank (bird…</td></tr><tr><td>&quot;There is more …</td><td>&quot;White-fronted …</td></tr><tr><td>&quot;There is more …</td><td>&quot;Bewick&#x27;s Swan&quot;</td></tr></tbody></table></div>"
      ],
      "text/plain": [
       "shape: (137, 2)\n",
       "┌───────────────────────────────────┬─────────────────────┐\n",
       "│ biodiversity_priority             ┆ common_name         │\n",
       "│ ---                               ┆ ---                 │\n",
       "│ str                               ┆ str                 │\n",
       "╞═══════════════════════════════════╪═════════════════════╡\n",
       "│ There is a greater amount of lan… ┆ Long-horned bee     │\n",
       "│ There are more and better-connec… ┆ Long-horned bee     │\n",
       "│ Existing species-rich grasslands… ┆ Long-horned bee     │\n",
       "│ The farmed landscape is more hos… ┆ Long-horned bee     │\n",
       "│ …                                 ┆ …                   │\n",
       "│ The farmed landscape is more hos… ┆ Lapwing             │\n",
       "│ There is more and better managed… ┆ Redshank (bird)     │\n",
       "│ There is more and better managed… ┆ White-fronted Goose │\n",
       "│ There is more and better managed… ┆ Bewick's Swan       │\n",
       "└───────────────────────────────────┴─────────────────────┘"
      ]
     },
     "execution_count": 28,
     "metadata": {},
     "output_type": "execute_result"
    }
   ],
   "source": [
    "species_df"
   ]
  },
  {
   "cell_type": "code",
   "execution_count": null,
   "metadata": {},
   "outputs": [],
   "source": []
  },
  {
   "cell_type": "code",
   "execution_count": 29,
   "metadata": {},
   "outputs": [],
   "source": [
    "con.close()"
   ]
  },
  {
   "cell_type": "code",
   "execution_count": null,
   "metadata": {},
   "outputs": [],
   "source": []
  }
 ],
 "metadata": {
  "kernelspec": {
   "display_name": "Python 3",
   "language": "python",
   "name": "python3"
  },
  "language_info": {
   "codemirror_mode": {
    "name": "ipython",
    "version": 3
   },
   "file_extension": ".py",
   "mimetype": "text/x-python",
   "name": "python",
   "nbconvert_exporter": "python",
   "pygments_lexer": "ipython3",
   "version": "3.10.0"
  }
 },
 "nbformat": 4,
 "nbformat_minor": 2
}
